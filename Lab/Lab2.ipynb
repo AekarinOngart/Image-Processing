{
 "cells": [
  {
   "cell_type": "markdown",
   "metadata": {},
   "source": [
    "## Lab 2.1"
   ]
  },
  {
   "cell_type": "markdown",
   "metadata": {},
   "source": [
    "### LAB 2.1.1"
   ]
  },
  {
   "cell_type": "code",
   "execution_count": 3,
   "metadata": {},
   "outputs": [],
   "source": [
    "import numpy as np\n",
    "import cv2\n",
    "\n",
    "# 1. อ่านภาพเข้ามาเป็น Image Array\n",
    "image = cv2.imread('./img/lab1-img1.jpg', cv2.IMREAD_GRAYSCALE)\n",
    "height, width = image.shape\n",
    "\n",
    "# 2. ปรับค่าพิกเซลของภาพโดยใช้สมการเส้นตรง g(x,y) = aƒ(x,y) + b\n",
    "# และ 3. ปรับค่าพิกเซลที่เกินช่วงค่า bit_dept = 8\n",
    "def adjust_pixel_value(image, a, b):\n",
    "    new_image = np.zeros_like(image)\n",
    "    for i in range(height):\n",
    "        for j in range(width):\n",
    "            value = a * image[i, j] + b\n",
    "            if value > 255:\n",
    "                value = 255\n",
    "            elif value < 0:\n",
    "                value = 0\n",
    "            new_image[i, j] = value\n",
    "    return new_image\n",
    "\n",
    "# สร้างภาพทั้งหมด\n",
    "images = []\n",
    "for a in np.linspace(0.5, 1.5, 5):  # ปรับค่า a จาก 0.5 ถึง 1.5 ด้วยจำนวน 5 ค่า\n",
    "    for b in np.linspace(-50, 50, 4):  # ปรับค่า b จาก -50 ถึง 50 ด้วยจำนวน 4 ค่า\n",
    "        images.append(adjust_pixel_value(image, a, b))\n",
    "\n",
    "# 4. บันทึกภาพทั้งหมดเป็นไฟล์วิดีโอ .mp4\n",
    "fourcc = cv2.VideoWriter_fourcc(*'mp4v')\n",
    "out = cv2.VideoWriter('./output/output_video.mp4', fourcc, 1, (width, height), isColor=False)\n",
    "\n",
    "for img in images:\n",
    "    out.write(img)\n",
    "\n",
    "out.release()\n"
   ]
  }
 ],
 "metadata": {
  "kernelspec": {
   "display_name": "Python 3",
   "language": "python",
   "name": "python3"
  },
  "language_info": {
   "codemirror_mode": {
    "name": "ipython",
    "version": 3
   },
   "file_extension": ".py",
   "mimetype": "text/x-python",
   "name": "python",
   "nbconvert_exporter": "python",
   "pygments_lexer": "ipython3",
   "version": "3.11.4"
  },
  "orig_nbformat": 4
 },
 "nbformat": 4,
 "nbformat_minor": 2
}
