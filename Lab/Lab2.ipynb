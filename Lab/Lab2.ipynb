{
 "cells": [
  {
   "cell_type": "markdown",
   "metadata": {},
   "source": [
    "## Lab 2.1"
   ]
  },
  {
   "cell_type": "markdown",
   "metadata": {},
   "source": [
    "#### Lab นี้ รอผลลัพธ์นานแล้วแต่เครื่อง"
   ]
  },
  {
   "cell_type": "markdown",
   "metadata": {},
   "source": [
    "### LAB 2.1.1"
   ]
  },
  {
   "cell_type": "code",
   "execution_count": 6,
   "metadata": {},
   "outputs": [],
   "source": [
    "import numpy as np\n",
    "import cv2\n",
    "\n",
    "# 1. อ่านภาพเข้ามาเป็น Image Array ที่มีสี\n",
    "image = cv2.imread('./img/lab1-img1.jpg')\n",
    "height, width, channels = image.shape\n",
    "\n",
    "# 2. ปรับค่าพิกเซลของแต่ละช่องสี (R, G, B) โดยใช้สมการเส้นตรง g(x,y) = aƒ(x,y) + b\n",
    "# และ 3. ปรับค่าพิกเซลที่เกินช่วงค่า bit_dept = 8\n",
    "def adjust_pixel_value(image, a, b):\n",
    "    new_image = np.zeros_like(image)\n",
    "    for i in range(height):\n",
    "        for j in range(width):\n",
    "            for c in range(channels):\n",
    "                value = a * image[i, j, c] + b\n",
    "                if value > 255:\n",
    "                    value = 255\n",
    "                elif value < 0:\n",
    "                    value = 0\n",
    "                new_image[i, j, c] = value\n",
    "    return new_image\n",
    "\n",
    "# สร้างภาพทั้งหมด\n",
    "images = []\n",
    "for a in np.linspace(0.5, 1.5, 5):  # ปรับค่า a จาก 0.5 ถึง 1.5 ด้วยจำนวน 5 ค่า\n",
    "    for b in np.linspace(-50, 50, 4):  # ปรับค่า b จาก -50 ถึง 50 ด้วยจำนวน 4 ค่า\n",
    "        images.append(adjust_pixel_value(image, a, b))\n",
    "\n",
    "# 4. บันทึกภาพทั้งหมดเป็นไฟล์วิดีโอ .mp4\n",
    "fourcc = cv2.VideoWriter_fourcc(*'mp4v')\n",
    "out = cv2.VideoWriter('./output/output_video.mp4', fourcc, 1, (width, height))\n",
    "\n",
    "for img in images:\n",
    "    out.write(img)\n",
    "\n",
    "out.release()\n",
    "\n"
   ]
  },
  {
   "cell_type": "markdown",
   "metadata": {},
   "source": [
    "### Lab 2.1.2"
   ]
  },
  {
   "cell_type": "code",
   "execution_count": 7,
   "metadata": {},
   "outputs": [],
   "source": [
    "import cv2\n",
    "import numpy as np\n",
    "\n",
    "def adjust_gamma(image, gamma, a=1, b=0):\n",
    "    # ปรับค่าพิกเซลของภาพโดยใช้สมการ Gamma\n",
    "    image = image / 255.0\n",
    "    image = cv2.pow(image, gamma)\n",
    "    out = a * image + b\n",
    "    out = np.clip(out, 0, 1)\n",
    "    out = (out * 255).astype(np.uint8)\n",
    "    return out\n",
    "\n",
    "# โหลดภาพ\n",
    "image_path = \"./img/lab1-img1.jpg\"\n",
    "image = cv2.imread(image_path)\n",
    "\n",
    "# กำหนดค่า gamma สำหรับการปรับค่าพิกเซล\n",
    "gammas = np.concatenate((np.linspace(0.1, 1, 10), np.linspace(1.1, 2, 10)))\n",
    "\n",
    "# สร้าง VideoWriter สำหรับเขียนวิดีโอ\n",
    "fourcc = cv2.VideoWriter_fourcc(*'mp4v')\n",
    "height, width = image.shape[:2]\n",
    "out = cv2.VideoWriter('./output/output.mp4', fourcc, 1.0, (width, height))\n",
    "\n",
    "for gamma in gammas:\n",
    "    adjusted = adjust_gamma(image, gamma)\n",
    "    out.write(adjusted)\n",
    "\n",
    "out.release()\n"
   ]
  },
  {
   "cell_type": "markdown",
   "metadata": {},
   "source": [
    "# Lab 2.2"
   ]
  },
  {
   "cell_type": "markdown",
   "metadata": {},
   "source": [
    "### Lab 2.2"
   ]
  },
  {
   "cell_type": "code",
   "execution_count": null,
   "metadata": {},
   "outputs": [],
   "source": []
  }
 ],
 "metadata": {
  "kernelspec": {
   "display_name": "Python 3",
   "language": "python",
   "name": "python3"
  },
  "language_info": {
   "codemirror_mode": {
    "name": "ipython",
    "version": 3
   },
   "file_extension": ".py",
   "mimetype": "text/x-python",
   "name": "python",
   "nbconvert_exporter": "python",
   "pygments_lexer": "ipython3",
   "version": "3.11.4"
  },
  "orig_nbformat": 4
 },
 "nbformat": 4,
 "nbformat_minor": 2
}
